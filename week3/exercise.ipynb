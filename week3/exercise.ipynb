{
 "cells": [
  {
   "cell_type": "code",
   "execution_count": null,
   "id": "9282063c",
   "metadata": {},
   "outputs": [
    {
     "name": "stdout",
     "output_type": "stream",
     "text": [
      "Giá trị sigmoid: tensor([0.7311, 0.9933, 0.0180])\n",
      "Đạo hàm sigmoid: tensor([0.1966, 0.0066, 0.0177])\n"
     ]
    }
   ],
   "source": [
    "import torch\n",
    "import math\n",
    "\n",
    "\n",
    "class Sigmoid:\n",
    "    def __init__(self, x):\n",
    "        self.x = x\n",
    "        self.output = None\n",
    "\n",
    "    def forward(self):\n",
    "        self.output = torch.tensor([1 / (1 + math.exp(-xi)) for xi in self.x])\n",
    "        return self.output\n",
    "\n",
    "    def derivative(self):\n",
    "        if self.output is None:\n",
    "            self.forward()\n",
    "        return self.output * (1 - self.output)\n",
    "\n",
    "\n",
    "if __name__ == \"__main__\":\n",
    "    x = torch.tensor([1.0, 5.0, -4.0])\n",
    "    sigmoid = Sigmoid(x)\n",
    "    y = sigmoid.forward()\n",
    "    print(\"Giá trị sigmoid:\", y)\n",
    "    dy = sigmoid.derivative()\n",
    "    print(\"Đạo hàm sigmoid:\", dy)"
   ]
  },
  {
   "cell_type": "markdown",
   "id": "3d09b3f8",
   "metadata": {},
   "source": [
    "# Xay dung ward"
   ]
  },
  {
   "cell_type": "code",
   "execution_count": null,
   "id": "1211aea9",
   "metadata": {},
   "outputs": [
    {
     "name": "stdout",
     "output_type": "stream",
     "text": [
      "Ward:cha lale cha lala\n",
      "People in the ward:\n",
      "student name:Alice,Ngay sinh:2005,grade:A\n",
      "student name:Mr. Smith,Ngay sinh:1980,subject:Mathematics\n",
      "student name:Ms. Johnson,Ngay sinh:1975,subject:English\n",
      "student name:Dr. Brown,Ngay sinh:1990,Chuyen nganh:Cardiology\n",
      "student name:Dr. Green,Ngay sinh:1985,Chuyen nganh:Pediatrics\n",
      "---Ngay sinh  sau khi sort---\n",
      "Ward:cha lale cha lala\n",
      "People in the ward:\n",
      "student name:Alice,Ngay sinh:2005,grade:A\n",
      "student name:Dr. Brown,Ngay sinh:1990,Chuyen nganh:Cardiology\n",
      "student name:Dr. Green,Ngay sinh:1985,Chuyen nganh:Pediatrics\n",
      "student name:Mr. Smith,Ngay sinh:1980,subject:Mathematics\n",
      "student name:Ms. Johnson,Ngay sinh:1975,subject:English\n",
      "---Năm sinh trung bình của giáo viên---\n"
     ]
    },
    {
     "data": {
      "text/plain": [
       "1977.5"
      ]
     },
     "execution_count": 7,
     "metadata": {},
     "output_type": "execute_result"
    }
   ],
   "source": [
    "class Person:\n",
    "    def __init__(self, name, yob):\n",
    "        self.name = name\n",
    "        self.yob = yob\n",
    "\n",
    "    def describle(self):\n",
    "        pass\n",
    "\n",
    "\n",
    "class Student(Person):\n",
    "    def __init__(self, name, yob, grade):\n",
    "        super().__init__(name, yob)\n",
    "        self.grade = grade\n",
    "\n",
    "    def describle(self):\n",
    "        print(f\"student name:{self.name},Ngay sinh:{self.yob},grade:{self.grade}\")\n",
    "\n",
    "\n",
    "class Teacher(Person):\n",
    "    def __init__(self, name, yob, subject):\n",
    "        super().__init__(name, yob)\n",
    "        self.subject = subject\n",
    "\n",
    "    def describle(self):\n",
    "        print(f\"student name:{self.name},Ngay sinh:{self.yob},subject:{self.subject}\")\n",
    "\n",
    "\n",
    "class Doctor(Person):\n",
    "    def __init__(self, name, yob, special):\n",
    "        super().__init__(name, yob)\n",
    "        self.special = special\n",
    "\n",
    "    def describle(self):\n",
    "        print(\n",
    "            f\"student name:{self.name},Ngay sinh:{self.yob},Chuyen nganh:{self.special}\"\n",
    "        )\n",
    "\n",
    "\n",
    "class Ward:\n",
    "    def __init__(self, name):\n",
    "        self.name = name\n",
    "        self.people = []\n",
    "\n",
    "    def addPerson(self, person):\n",
    "        self.people.append(person)\n",
    "\n",
    "    def describle(self):\n",
    "        print(f\"Ward:{self.name}\")\n",
    "        print(\"People in the ward:\")\n",
    "        for person in self.people:\n",
    "            person.describle()\n",
    "\n",
    "    def countDortor(self):\n",
    "        count = 0\n",
    "        for person in self.people:\n",
    "            if isinstance(person, Dortor):\n",
    "                count += 1\n",
    "        return count\n",
    "\n",
    "    def sortAge(self):\n",
    "        self.people.sort(key=lambda x: x.yob, reverse=True)\n",
    "\n",
    "    def advevTeacher(self):\n",
    "        total = 0\n",
    "        count = 0\n",
    "        for person in self.people:\n",
    "            if isinstance(person, Teacher):\n",
    "                total += person.yob\n",
    "                count += 1\n",
    "        if count == 0:\n",
    "            return 0\n",
    "        return total / count\n",
    "\n",
    "\n",
    "ward = Ward(\"cha lale cha lala\")\n",
    "\n",
    "ward.addPerson(Student(\"Alice\", 2005, \"A\"))\n",
    "ward.addPerson(Teacher(\"Mr. Smith\", 1980, \"Mathematics\"))\n",
    "ward.addPerson(Teacher(\"Ms. Johnson\", 1975, \"English\"))\n",
    "ward.addPerson(Doctor(\"Dr. Brown\", 1990, \"Cardiology\"))\n",
    "ward.addPerson(Doctor(\"Dr. Green\", 1985, \"Pediatrics\"))\n",
    "\n",
    "ward.describle()\n",
    "ward.sortAge()\n",
    "print(\"---Ngay sinh  sau khi sort---\")\n",
    "ward.describle()\n",
    "print(\"---Năm sinh trung bình của giáo viên---\")\n",
    "ward.advevTeacher()"
   ]
  },
  {
   "cell_type": "markdown",
   "id": "45dd7a68",
   "metadata": {},
   "source": [
    "# Stack"
   ]
  },
  {
   "cell_type": "code",
   "execution_count": null,
   "id": "8bd52baa",
   "metadata": {},
   "outputs": [
    {
     "name": "stdout",
     "output_type": "stream",
     "text": [
      "3\n",
      "2\n"
     ]
    }
   ],
   "source": [
    "class stack:\n",
    "    def __init__(self, capacity):\n",
    "        self.capacity = capacity\n",
    "        self.stack = []\n",
    "\n",
    "    def isEmpty(self):\n",
    "        return len(self.stack) == 0\n",
    "\n",
    "    def isFull(self):\n",
    "        return len(self.stack) == self.capacity\n",
    "\n",
    "    def Pop(self):\n",
    "        if self.isEmpty():\n",
    "            raise Exception(\"Stack rỗng\")\n",
    "        return self.stack.pop()\n",
    "\n",
    "    def Push(self, value):\n",
    "        if self.isFull():\n",
    "            raise Exception(\"Stack đầy\")\n",
    "        self.stack.append(value)\n",
    "\n",
    "    def Top(self):\n",
    "        if self.isEmpty():\n",
    "            raise Exception(\"Stack rỗng\")\n",
    "        return self.stack[-1]\n",
    "\n",
    "\n",
    "st = stack(3)\n",
    "st.Push(1)\n",
    "st.Push(2)\n",
    "st.Push(3)\n",
    "print(st.Pop())\n",
    "print(st.Top())"
   ]
  },
  {
   "cell_type": "markdown",
   "id": "1fe455cc",
   "metadata": {},
   "source": [
    "# QUEUE"
   ]
  },
  {
   "cell_type": "code",
   "execution_count": null,
   "id": "bf252e78",
   "metadata": {},
   "outputs": [
    {
     "name": "stdout",
     "output_type": "stream",
     "text": [
      "1\n",
      "2\n"
     ]
    }
   ],
   "source": [
    "class Queue:\n",
    "    def __init__(self, capacity):\n",
    "        self.capacity = capacity\n",
    "        self.queue = []\n",
    "\n",
    "    def isEmpty(self):\n",
    "        return len(self.queue) == 0\n",
    "\n",
    "    def isFull(self):\n",
    "        return len(self.queue) == self.capacity\n",
    "\n",
    "    def dequeue(self):\n",
    "        if self.isEmpty():\n",
    "            raise Exception(\"queue rỗng\")\n",
    "        return self.queue.pop(0)\n",
    "\n",
    "    def enqueue(self, value):\n",
    "        if self.isFull():\n",
    "            raise Exception(\"queue đầy\")\n",
    "        self.queue.append(value)\n",
    "\n",
    "    def font(self):\n",
    "        if self.isEmpty():\n",
    "            raise Exception(\"queue rỗng\")\n",
    "        return self.queue[0]\n",
    "\n",
    "\n",
    "q = Queue(3)\n",
    "q.enqueue(1)\n",
    "q.enqueue(2)\n",
    "q.enqueue(3)\n",
    "print(q.dequeue())\n",
    "print(q.font())"
   ]
  }
 ],
 "metadata": {
  "kernelspec": {
   "display_name": "Python 3",
   "language": "python",
   "name": "python3"
  },
  "language_info": {
   "codemirror_mode": {
    "name": "ipython",
    "version": 3
   },
   "file_extension": ".py",
   "mimetype": "text/x-python",
   "name": "python",
   "nbconvert_exporter": "python",
   "pygments_lexer": "ipython3",
   "version": "3.13.0"
  }
 },
 "nbformat": 4,
 "nbformat_minor": 5
}
