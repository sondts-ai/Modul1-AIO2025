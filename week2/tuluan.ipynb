{
 "cells": [
  {
   "cell_type": "markdown",
   "id": "14e526bc",
   "metadata": {},
   "source": [
    "# Getting Max Over Kernel"
   ]
  },
  {
   "cell_type": "code",
   "execution_count": null,
   "id": "d7279c23",
   "metadata": {},
   "outputs": [
    {
     "name": "stdout",
     "output_type": "stream",
     "text": [
      "[5, 5, 5, 5, 10, 12, 33, 33]\n"
     ]
    }
   ],
   "source": [
    "def slide(nums, k):\n",
    "    n = len(nums)\n",
    "    arr = []\n",
    "    if k <= n and k >= 1:\n",
    "        for i in range(n - k + 1):\n",
    "            window_list = nums[i : i + k]\n",
    "            arr.append(max(window_list))\n",
    "        return arr\n",
    "    else:\n",
    "        return \"invalid input\"\n",
    "\n",
    "\n",
    "nums = [3, 4, 5, 1, -44, 5, 10, 12, 33, 1]\n",
    "k = 3\n",
    "print(slide(nums, k))"
   ]
  },
  {
   "cell_type": "markdown",
   "id": "66c6e375",
   "metadata": {},
   "source": [
    "# Character Counting\n"
   ]
  },
  {
   "cell_type": "code",
   "execution_count": null,
   "id": "8c241948",
   "metadata": {},
   "outputs": [
    {
     "name": "stdout",
     "output_type": "stream",
     "text": [
      "{'H': 1, 'a': 1, 'p': 2, 'i': 1, 'n': 1, 'e': 1, 's': 2}\n"
     ]
    }
   ],
   "source": [
    "def counting(strings):\n",
    "    dist = {}\n",
    "    for string in strings:\n",
    "        if string in dist:\n",
    "            dist[string] += 1\n",
    "        else:\n",
    "            dist[string] = 1\n",
    "    return dist\n",
    "\n",
    "\n",
    "strings = \"Happiness\"\n",
    "print(counting(strings))"
   ]
  },
  {
   "cell_type": "markdown",
   "id": "232f801b",
   "metadata": {},
   "source": [
    "# Word Counting"
   ]
  },
  {
   "cell_type": "code",
   "execution_count": null,
   "id": "abb622fe",
   "metadata": {},
   "outputs": [
    {
     "name": "stdout",
     "output_type": "stream",
     "text": [
      "{'He': 1, 'who': 3, 'conquers': 1, 'himself': 1, 'is': 3, 'the': 4, 'mightiest': 1, 'warrior': 1, 'Try': 1, 'not': 1, 'to': 3, 'become': 2, 'a': 6, 'man': 6, 'of': 4, 'success': 2, 'but': 1, 'rather': 1, 'value': 1, 'One': 2, 'with': 4, 'courage': 1, 'makes': 1, 'majority': 1, 'secret': 1, 'in': 4, 'life': 2, 'for': 3, 'be': 1, 'ready': 1, 'his': 2, 'opportunity': 1, 'when': 2, 'it': 2, 'comes': 2, 'The': 1, 'successful': 2, 'will': 2, 'profit': 1, 'from': 1, 'mistakes': 1, 'and': 1, 'try': 1, 'again': 1, 'different': 1, 'way': 1, 'A': 1, 'one': 2, 'can': 3, 'lay': 1, 'firm': 1, 'foundation': 1, 'bricks': 1, 'others': 1, 'have': 1, 'thrown': 1, 'at': 1, 'him': 1, 'Success': 1, 'usually': 1, 'those': 1, 'are': 1, 'too': 1, 'busy': 1, 'looking': 1, 'We': 1, 'cannot': 1, 'solve': 1, 'problems': 1, 'kind': 1, 'thinking': 1, 'we': 2, 'employed': 1, 'came': 1, 'up': 1, 'them': 1, 'Just': 1, 'small': 1, 'positive': 1, 'thought': 1, 'morning': 1, 'change': 1, 'your': 1, 'whole': 1, 'day': 1, 'You': 1, 'get': 2, 'everything': 1, 'you': 2, 'want': 2, 'if': 1, 'just': 1, 'help': 1, 'enough': 1, 'other': 1, 'people': 1, 'what': 1, 'they': 1}\n"
     ]
    }
   ],
   "source": [
    "file_path = \"c:/Users/DELL/Downloads/P1_data.txt\"\n",
    "\n",
    "\n",
    "def count_word(file_path):\n",
    "    count = {}\n",
    "    # Doc file\n",
    "    with open(file_path, \"r\", encoding=\"utf-8\") as file:\n",
    "        text = file.read()\n",
    "    text = text.split()\n",
    "    for word in text:\n",
    "        if word in count:\n",
    "            count[word] += 1\n",
    "        else:\n",
    "            count[word] = 1\n",
    "    return count\n",
    "\n",
    "\n",
    "print(count_word(file_path))\n"
   ]
  },
  {
   "cell_type": "markdown",
   "id": "966bebc1",
   "metadata": {},
   "source": [
    "# Levenshtein Distance"
   ]
  },
  {
   "cell_type": "code",
   "execution_count": null,
   "id": "6fe9d3fe",
   "metadata": {},
   "outputs": [
    {
     "name": "stdout",
     "output_type": "stream",
     "text": [
      "Levenshtein distance giữa 'yu' và 'you' là: 1\n",
      "\n",
      "Ma trận D:\n",
      "[0, 1, 2, 3]\n",
      "[1, 0, 1, 2]\n",
      "[2, 1, 1, 1]\n",
      "(3, [[0, 1, 2, 3, 4, 5], [1, 0, 1, 2, 3, 4], [2, 1, 1, 2, 3, 3], [3, 2, 2, 1, 2, 3], [4, 3, 3, 2, 2, 3]])\n"
     ]
    }
   ],
   "source": [
    "def levenshtein_distance(source, target):\n",
    "    m = len(source)\n",
    "    n = len(target)\n",
    "\n",
    "    # Bước 1: Khởi tạo ma trận D có kích thước (m+1) x (n+1)\n",
    "    D = [[0 for _ in range(n + 1)] for _ in range(m + 1)]\n",
    "\n",
    "    # Bước 2: Khởi tạo hàng đầu tiên và cột đầu tiên\n",
    "    for i in range(m + 1):\n",
    "        D[i][0] = i  # delete i ký tự\n",
    "\n",
    "    for j in range(n + 1):\n",
    "        D[0][j] = j  # insert j ký tự\n",
    "\n",
    "    # Bước 3: Điền các ô còn lại trong ma trận D\n",
    "    for i in range(1, m + 1):\n",
    "        for j in range(1, n + 1):\n",
    "            if source[i - 1] == target[j - 1]:\n",
    "                cost_substitute = 0\n",
    "            else:\n",
    "                cost_substitute = 1\n",
    "\n",
    "            D[i][j] = min(\n",
    "                D[i - 1][j] + 1,  # delete\n",
    "                D[i][j - 1] + 1,  # insert\n",
    "                D[i - 1][j - 1] + cost_substitute,  # substitute\n",
    "            )\n",
    "\n",
    "    # Bước 4: Giá trị ở ô cuối cùng D[m][n] là khoảng cách Levenshtein\n",
    "    return D[m][n], D  # Trả về cả ma trận D nếu bạn muốn xem\n",
    "\n",
    "\n",
    "# Ví dụ sử dụng\n",
    "source = \"yu\"\n",
    "target = \"you\"\n",
    "distance, matrix = levenshtein_distance(source, target)\n",
    "\n",
    "print(f\"Levenshtein distance giữa '{source}' và '{target}' là: {distance}\")\n",
    "\n",
    "# In ma trận D ra cho dễ hình dung\n",
    "print(\"\\nMa trận D:\")\n",
    "for row in matrix:\n",
    "    print(row)\n"
   ]
  },
  {
   "cell_type": "markdown",
   "id": "96e4930f",
   "metadata": {},
   "source": [
    "Câu 1:A\n",
    "Câu 2:A\n",
    "Câu 3:C\n",
    "Câu 4:C\n",
    "Câu 5:A\n",
    "Câu 6:C\n",
    "Câu 7:C\n",
    "Câu 8:D\n",
    "Câu 9:C\n",
    "Câu 10:A\n",
    "Câu 11:A\n",
    "Câu 12:C\n",
    "Câu 13:B\n",
    "Câu 14:C\n",
    "Câu 15:A"
   ]
  }
 ],
 "metadata": {
  "kernelspec": {
   "display_name": "Python 3",
   "language": "python",
   "name": "python3"
  },
  "language_info": {
   "codemirror_mode": {
    "name": "ipython",
    "version": 3
   },
   "file_extension": ".py",
   "mimetype": "text/x-python",
   "name": "python",
   "nbconvert_exporter": "python",
   "pygments_lexer": "ipython3",
   "version": "3.13.0"
  }
 },
 "nbformat": 4,
 "nbformat_minor": 5
}
